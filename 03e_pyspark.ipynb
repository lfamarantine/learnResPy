{
 "cells": [
  {
   "cell_type": "markdown",
   "source": [
    "### Spark\n",
    "\n",
    "Spark is a platform for cluster computing. Spark lets you spread data and computations over clusters with multiple nodes\n",
    "(think of each node as a separate computer). Splitting up your data makes it easier to work with very large datasets\n",
    "because each node only works with a small amount of data.\n",
    "\n",
    "As each node works on its own subset of the total data, it also carries out a part of the total calculations required,\n",
    "so that both data processing and computation are performed in parallel over the nodes in the cluster. It is a fact\n",
    "that parallel computation can make certain types of programming tasks much faster.\n",
    "\n",
    "When to use Spark? Answering questions like the following is helpful:\n",
    "\n",
    "- Is my data too big to work with on a single machine?\n",
    "- Can my calculations be easily parallelized?\n",
    "\n",
    "Spark's core data structure is the Resilient Distributed Dataset (RDD). RDDs are hard to work with and one usually uses\n",
    "Spark DataFrame abstraction built on top of RDDs. DataFrames are also more optimized for complicated operations than\n",
    "RDDs.\n"
   ],
   "metadata": {
    "collapsed": false
   }
  },
  {
   "cell_type": "markdown",
   "source": [
    "#### Basics"
   ],
   "metadata": {
    "collapsed": false
   }
  },
  {
   "cell_type": "code",
   "execution_count": 9,
   "outputs": [
    {
     "name": "stdout",
     "output_type": "stream",
     "text": [
      "<pyspark.sql.session.SparkSession object at 0x000001A0B94EE490>\n",
      "13\n"
     ]
    }
   ],
   "source": [
    "from pyspark.sql import SparkSession\n",
    "\n",
    "# create new spark session if necessary\n",
    "my_spark = SparkSession.builder.getOrCreate()\n",
    "print(my_spark)\n",
    "print(4+9)\n",
    "\n",
    "\n",
    "\n"
   ],
   "metadata": {
    "collapsed": false,
    "pycharm": {
     "name": "#%%\n"
    }
   }
  }
 ],
 "metadata": {
  "kernelspec": {
   "display_name": "Python 3",
   "language": "python",
   "name": "python3"
  },
  "language_info": {
   "codemirror_mode": {
    "name": "ipython",
    "version": 2
   },
   "file_extension": ".py",
   "mimetype": "text/x-python",
   "name": "python",
   "nbconvert_exporter": "python",
   "pygments_lexer": "ipython2",
   "version": "2.7.6"
  }
 },
 "nbformat": 4,
 "nbformat_minor": 0
}